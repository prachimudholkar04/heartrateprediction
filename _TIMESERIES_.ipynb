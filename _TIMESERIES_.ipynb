{
  "nbformat": 4,
  "nbformat_minor": 0,
  "metadata": {
    "colab": {
      "provenance": [],
      "authorship_tag": "ABX9TyPV0xX0vE/PwvHmulpkBrk4",
      "include_colab_link": true
    },
    "kernelspec": {
      "name": "python3",
      "display_name": "Python 3"
    },
    "language_info": {
      "name": "python"
    }
  },
  "cells": [
    {
      "cell_type": "markdown",
      "metadata": {
        "id": "view-in-github",
        "colab_type": "text"
      },
      "source": [
        "<a href=\"https://colab.research.google.com/github/prachimudholkar04/heartrateprediction/blob/main/_TIMESERIES_.ipynb\" target=\"_parent\"><img src=\"https://colab.research.google.com/assets/colab-badge.svg\" alt=\"Open In Colab\"/></a>"
      ]
    },
    {
      "cell_type": "code",
      "execution_count": null,
      "metadata": {
        "colab": {
          "base_uri": "https://localhost:8080/"
        },
        "id": "ivGhIvS604ik",
        "outputId": "43df5e21-f376-4a4e-f857-7323e4bdd9b0"
      },
      "outputs": [
        {
          "output_type": "stream",
          "name": "stdout",
          "text": [
            "Looking in indexes: https://pypi.org/simple, https://us-python.pkg.dev/colab-wheels/public/simple/\n",
            "Requirement already satisfied: pmdarima in /usr/local/lib/python3.8/dist-packages (2.0.2)\n",
            "Requirement already satisfied: statsmodels>=0.13.2 in /usr/local/lib/python3.8/dist-packages (from pmdarima) (0.13.5)\n",
            "Requirement already satisfied: pandas>=0.19 in /usr/local/lib/python3.8/dist-packages (from pmdarima) (1.3.5)\n",
            "Requirement already satisfied: joblib>=0.11 in /usr/local/lib/python3.8/dist-packages (from pmdarima) (1.2.0)\n",
            "Requirement already satisfied: setuptools!=50.0.0,>=38.6.0 in /usr/local/lib/python3.8/dist-packages (from pmdarima) (57.4.0)\n",
            "Requirement already satisfied: scikit-learn>=0.22 in /usr/local/lib/python3.8/dist-packages (from pmdarima) (1.0.2)\n",
            "Requirement already satisfied: urllib3 in /usr/local/lib/python3.8/dist-packages (from pmdarima) (1.24.3)\n",
            "Requirement already satisfied: numpy>=1.21.2 in /usr/local/lib/python3.8/dist-packages (from pmdarima) (1.21.6)\n",
            "Requirement already satisfied: scipy>=1.3.2 in /usr/local/lib/python3.8/dist-packages (from pmdarima) (1.7.3)\n",
            "Requirement already satisfied: Cython!=0.29.18,!=0.29.31,>=0.29 in /usr/local/lib/python3.8/dist-packages (from pmdarima) (0.29.33)\n",
            "Requirement already satisfied: pytz>=2017.3 in /usr/local/lib/python3.8/dist-packages (from pandas>=0.19->pmdarima) (2022.7.1)\n",
            "Requirement already satisfied: python-dateutil>=2.7.3 in /usr/local/lib/python3.8/dist-packages (from pandas>=0.19->pmdarima) (2.8.2)\n",
            "Requirement already satisfied: threadpoolctl>=2.0.0 in /usr/local/lib/python3.8/dist-packages (from scikit-learn>=0.22->pmdarima) (3.1.0)\n",
            "Requirement already satisfied: packaging>=21.3 in /usr/local/lib/python3.8/dist-packages (from statsmodels>=0.13.2->pmdarima) (23.0)\n",
            "Requirement already satisfied: patsy>=0.5.2 in /usr/local/lib/python3.8/dist-packages (from statsmodels>=0.13.2->pmdarima) (0.5.3)\n",
            "Requirement already satisfied: six in /usr/local/lib/python3.8/dist-packages (from patsy>=0.5.2->statsmodels>=0.13.2->pmdarima) (1.15.0)\n"
          ]
        }
      ],
      "source": [
        "pip install pmdarima"
      ]
    },
    {
      "cell_type": "code",
      "source": [
        "import pandas as pd\n",
        "import numpy as np\n",
        "import matplotlib.pyplot as plt\n",
        "import statsmodels.api as sm\n",
        "from statsmodels.tsa.arima_model import ARIMA\n",
        "from statsmodels.graphics.tsaplots import plot_acf,plot_pacf\n",
        "from statsmodels.tsa.seasonal import seasonal_decompose\n",
        "from statsmodels.tsa.seasonal import STL\n",
        "\n",
        "import pmdarima as pm\n",
        "\n",
        "\n",
        "from sklearn.metrics import mean_squared_error\n",
        "import datetime\n",
        "\n",
        "\n",
        "from statsmodels.tsa.api import ExponentialSmoothing, SimpleExpSmoothing, Holt\n",
        "from scipy.spatial.distance import cdist"
      ],
      "metadata": {
        "id": "uwP2HKLo07ak"
      },
      "execution_count": null,
      "outputs": []
    },
    {
      "cell_type": "code",
      "source": [
        "!pip install --upgrade --q --no-cache-dir gdown\n",
        "\n",
        " \n",
        "\n",
        "!gdown 1n93ddNLN2uDntiIdoQz1jFVVcLk3mGMO \n"
      ],
      "metadata": {
        "colab": {
          "base_uri": "https://localhost:8080/"
        },
        "id": "-uHRFlGq5STW",
        "outputId": "4600abe6-38fd-4da0-d1cb-c9afb9c44c32"
      },
      "execution_count": null,
      "outputs": [
        {
          "output_type": "stream",
          "name": "stdout",
          "text": [
            "Downloading...\n",
            "From: https://drive.google.com/uc?id=1n93ddNLN2uDntiIdoQz1jFVVcLk3mGMO\n",
            "To: /content/PT_Train.csv\n",
            "\r  0% 0.00/7.17k [00:00<?, ?B/s]\r100% 7.17k/7.17k [00:00<00:00, 11.5MB/s]\n"
          ]
        }
      ]
    },
    {
      "cell_type": "code",
      "source": [
        "path = \"/content/PT_Train.csv\"\n",
        "df = pd.read_csv(path)"
      ],
      "metadata": {
        "id": "YkDW8bVe09Vl"
      },
      "execution_count": null,
      "outputs": []
    },
    {
      "cell_type": "code",
      "source": [
        "df.head()"
      ],
      "metadata": {
        "colab": {
          "base_uri": "https://localhost:8080/",
          "height": 262
        },
        "id": "QUmyoSzT7ypk",
        "outputId": "49b0eecf-17ef-4b5d-df4a-712aed102b77"
      },
      "execution_count": null,
      "outputs": [
        {
          "output_type": "execute_result",
          "data": {
            "text/plain": [
              "    Timestamp (GMT)  Lifetouch Heart Rate  Lifetouch Respiration Rate  \\\n",
              "0  17/08/2015 15:09                   139                          41   \n",
              "1  17/08/2015 15:10                   144                          40   \n",
              "2  17/08/2015 15:11                   140                          42   \n",
              "3  17/08/2015 15:12                   138                          45   \n",
              "4  17/08/2015 15:13                   133                          42   \n",
              "\n",
              "   Oximeter SpO2  Oximeter Pulse  \n",
              "0            NaN             NaN  \n",
              "1           92.0           140.0  \n",
              "2           89.0           144.0  \n",
              "3           93.0           141.0  \n",
              "4           94.0           134.0  "
            ],
            "text/html": [
              "\n",
              "  <div id=\"df-ac4ef87a-5ad5-40d7-8097-802fd02b82aa\">\n",
              "    <div class=\"colab-df-container\">\n",
              "      <div>\n",
              "<style scoped>\n",
              "    .dataframe tbody tr th:only-of-type {\n",
              "        vertical-align: middle;\n",
              "    }\n",
              "\n",
              "    .dataframe tbody tr th {\n",
              "        vertical-align: top;\n",
              "    }\n",
              "\n",
              "    .dataframe thead th {\n",
              "        text-align: right;\n",
              "    }\n",
              "</style>\n",
              "<table border=\"1\" class=\"dataframe\">\n",
              "  <thead>\n",
              "    <tr style=\"text-align: right;\">\n",
              "      <th></th>\n",
              "      <th>Timestamp (GMT)</th>\n",
              "      <th>Lifetouch Heart Rate</th>\n",
              "      <th>Lifetouch Respiration Rate</th>\n",
              "      <th>Oximeter SpO2</th>\n",
              "      <th>Oximeter Pulse</th>\n",
              "    </tr>\n",
              "  </thead>\n",
              "  <tbody>\n",
              "    <tr>\n",
              "      <th>0</th>\n",
              "      <td>17/08/2015 15:09</td>\n",
              "      <td>139</td>\n",
              "      <td>41</td>\n",
              "      <td>NaN</td>\n",
              "      <td>NaN</td>\n",
              "    </tr>\n",
              "    <tr>\n",
              "      <th>1</th>\n",
              "      <td>17/08/2015 15:10</td>\n",
              "      <td>144</td>\n",
              "      <td>40</td>\n",
              "      <td>92.0</td>\n",
              "      <td>140.0</td>\n",
              "    </tr>\n",
              "    <tr>\n",
              "      <th>2</th>\n",
              "      <td>17/08/2015 15:11</td>\n",
              "      <td>140</td>\n",
              "      <td>42</td>\n",
              "      <td>89.0</td>\n",
              "      <td>144.0</td>\n",
              "    </tr>\n",
              "    <tr>\n",
              "      <th>3</th>\n",
              "      <td>17/08/2015 15:12</td>\n",
              "      <td>138</td>\n",
              "      <td>45</td>\n",
              "      <td>93.0</td>\n",
              "      <td>141.0</td>\n",
              "    </tr>\n",
              "    <tr>\n",
              "      <th>4</th>\n",
              "      <td>17/08/2015 15:13</td>\n",
              "      <td>133</td>\n",
              "      <td>42</td>\n",
              "      <td>94.0</td>\n",
              "      <td>134.0</td>\n",
              "    </tr>\n",
              "  </tbody>\n",
              "</table>\n",
              "</div>\n",
              "      <button class=\"colab-df-convert\" onclick=\"convertToInteractive('df-ac4ef87a-5ad5-40d7-8097-802fd02b82aa')\"\n",
              "              title=\"Convert this dataframe to an interactive table.\"\n",
              "              style=\"display:none;\">\n",
              "        \n",
              "  <svg xmlns=\"http://www.w3.org/2000/svg\" height=\"24px\"viewBox=\"0 0 24 24\"\n",
              "       width=\"24px\">\n",
              "    <path d=\"M0 0h24v24H0V0z\" fill=\"none\"/>\n",
              "    <path d=\"M18.56 5.44l.94 2.06.94-2.06 2.06-.94-2.06-.94-.94-2.06-.94 2.06-2.06.94zm-11 1L8.5 8.5l.94-2.06 2.06-.94-2.06-.94L8.5 2.5l-.94 2.06-2.06.94zm10 10l.94 2.06.94-2.06 2.06-.94-2.06-.94-.94-2.06-.94 2.06-2.06.94z\"/><path d=\"M17.41 7.96l-1.37-1.37c-.4-.4-.92-.59-1.43-.59-.52 0-1.04.2-1.43.59L10.3 9.45l-7.72 7.72c-.78.78-.78 2.05 0 2.83L4 21.41c.39.39.9.59 1.41.59.51 0 1.02-.2 1.41-.59l7.78-7.78 2.81-2.81c.8-.78.8-2.07 0-2.86zM5.41 20L4 18.59l7.72-7.72 1.47 1.35L5.41 20z\"/>\n",
              "  </svg>\n",
              "      </button>\n",
              "      \n",
              "  <style>\n",
              "    .colab-df-container {\n",
              "      display:flex;\n",
              "      flex-wrap:wrap;\n",
              "      gap: 12px;\n",
              "    }\n",
              "\n",
              "    .colab-df-convert {\n",
              "      background-color: #E8F0FE;\n",
              "      border: none;\n",
              "      border-radius: 50%;\n",
              "      cursor: pointer;\n",
              "      display: none;\n",
              "      fill: #1967D2;\n",
              "      height: 32px;\n",
              "      padding: 0 0 0 0;\n",
              "      width: 32px;\n",
              "    }\n",
              "\n",
              "    .colab-df-convert:hover {\n",
              "      background-color: #E2EBFA;\n",
              "      box-shadow: 0px 1px 2px rgba(60, 64, 67, 0.3), 0px 1px 3px 1px rgba(60, 64, 67, 0.15);\n",
              "      fill: #174EA6;\n",
              "    }\n",
              "\n",
              "    [theme=dark] .colab-df-convert {\n",
              "      background-color: #3B4455;\n",
              "      fill: #D2E3FC;\n",
              "    }\n",
              "\n",
              "    [theme=dark] .colab-df-convert:hover {\n",
              "      background-color: #434B5C;\n",
              "      box-shadow: 0px 1px 3px 1px rgba(0, 0, 0, 0.15);\n",
              "      filter: drop-shadow(0px 1px 2px rgba(0, 0, 0, 0.3));\n",
              "      fill: #FFFFFF;\n",
              "    }\n",
              "  </style>\n",
              "\n",
              "      <script>\n",
              "        const buttonEl =\n",
              "          document.querySelector('#df-ac4ef87a-5ad5-40d7-8097-802fd02b82aa button.colab-df-convert');\n",
              "        buttonEl.style.display =\n",
              "          google.colab.kernel.accessAllowed ? 'block' : 'none';\n",
              "\n",
              "        async function convertToInteractive(key) {\n",
              "          const element = document.querySelector('#df-ac4ef87a-5ad5-40d7-8097-802fd02b82aa');\n",
              "          const dataTable =\n",
              "            await google.colab.kernel.invokeFunction('convertToInteractive',\n",
              "                                                     [key], {});\n",
              "          if (!dataTable) return;\n",
              "\n",
              "          const docLinkHtml = 'Like what you see? Visit the ' +\n",
              "            '<a target=\"_blank\" href=https://colab.research.google.com/notebooks/data_table.ipynb>data table notebook</a>'\n",
              "            + ' to learn more about interactive tables.';\n",
              "          element.innerHTML = '';\n",
              "          dataTable['output_type'] = 'display_data';\n",
              "          await google.colab.output.renderOutput(dataTable, element);\n",
              "          const docLink = document.createElement('div');\n",
              "          docLink.innerHTML = docLinkHtml;\n",
              "          element.appendChild(docLink);\n",
              "        }\n",
              "      </script>\n",
              "    </div>\n",
              "  </div>\n",
              "  "
            ]
          },
          "metadata": {},
          "execution_count": 5
        }
      ]
    },
    {
      "cell_type": "code",
      "source": [
        "df = df.drop([\"Lifetouch Respiration Rate\",\"Oximeter SpO2\",\"Oximeter Pulse\"],axis=1)"
      ],
      "metadata": {
        "id": "3YvaM0qa5PsX"
      },
      "execution_count": null,
      "outputs": []
    },
    {
      "cell_type": "code",
      "source": [
        "df['Timestamp (GMT)'] = pd.to_datetime(df['Timestamp (GMT)'], infer_datetime_format=True)"
      ],
      "metadata": {
        "id": "UwenrFcj5Wfm"
      },
      "execution_count": null,
      "outputs": []
    },
    {
      "cell_type": "code",
      "source": [
        "mask = df['Lifetouch Heart Rate'] > 200\n",
        "target = 'Lifetouch Heart Rate'\n",
        "df.loc[mask, target] = np.NaN"
      ],
      "metadata": {
        "id": "7ly4oDf75Ydj"
      },
      "execution_count": null,
      "outputs": []
    },
    {
      "cell_type": "code",
      "source": [
        "df = df.fillna(method='ffill')\n",
        "df.isnull().sum()"
      ],
      "metadata": {
        "id": "y-DXbSTq5aBm",
        "colab": {
          "base_uri": "https://localhost:8080/"
        },
        "outputId": "d7b26f11-3aec-48d9-abc3-5f46377d2af3"
      },
      "execution_count": null,
      "outputs": [
        {
          "output_type": "execute_result",
          "data": {
            "text/plain": [
              "Timestamp (GMT)         0\n",
              "Lifetouch Heart Rate    0\n",
              "dtype: int64"
            ]
          },
          "metadata": {},
          "execution_count": 9
        }
      ]
    },
    {
      "cell_type": "code",
      "source": [
        "df = df.rename(columns={\"Timestamp (GMT)\":\"Timestamp\"})"
      ],
      "metadata": {
        "id": "CqTRZU5l5cMH"
      },
      "execution_count": null,
      "outputs": []
    },
    {
      "cell_type": "code",
      "source": [
        "df.set_index('Timestamp', inplace=True)"
      ],
      "metadata": {
        "id": "356WswDU5es8"
      },
      "execution_count": null,
      "outputs": []
    },
    {
      "cell_type": "code",
      "source": [
        "# check stationarity of the series\n",
        "def check_stationarity(series):\n",
        "  statistic, p_value, n_lags, critical_values = sm.tsa.stattools.kpss(series)\n",
        "  print(f'p value: {p_value}')\n",
        "  print(f'Result: The series is {\"not \" if p_value < 0.05 else \"\"}stationary \\n')"
      ],
      "metadata": {
        "id": "hChqawua5hC8"
      },
      "execution_count": null,
      "outputs": []
    },
    {
      "cell_type": "code",
      "source": [
        "check_stationarity(df['Lifetouch Heart Rate'])"
      ],
      "metadata": {
        "id": "9_GZa08j5vs8",
        "colab": {
          "base_uri": "https://localhost:8080/"
        },
        "outputId": "0ab1af17-f247-46b3-f96f-4999b2da2587"
      },
      "execution_count": null,
      "outputs": [
        {
          "output_type": "stream",
          "name": "stdout",
          "text": [
            "p value: 0.01\n",
            "Result: The series is not stationary \n",
            "\n"
          ]
        },
        {
          "output_type": "stream",
          "name": "stderr",
          "text": [
            "/usr/local/lib/python3.8/dist-packages/statsmodels/tsa/stattools.py:2018: InterpolationWarning: The test statistic is outside of the range of p-values available in the\n",
            "look-up table. The actual p-value is smaller than the p-value returned.\n",
            "\n",
            "  warnings.warn(\n"
          ]
        }
      ]
    },
    {
      "cell_type": "code",
      "source": [
        "\n",
        "# Decompose the time series into its components\n",
        "decomposition = seasonal_decompose(df, model='additive',period=5)\n",
        "\n",
        "# Extract the components from the decomposition object\n",
        "trend = decomposition.trend\n",
        "seasonality = decomposition.seasonal\n",
        "residual = decomposition.resid\n"
      ],
      "metadata": {
        "id": "YGH_esDXeOzk"
      },
      "execution_count": null,
      "outputs": []
    },
    {
      "cell_type": "code",
      "source": [
        "plt.subplot(311)\n",
        "plt.plot(df, label=\"Orinal\")\n",
        "plt.subplot(312)\n",
        "plt.plot(trend,label=\"Trend\")\n",
        "plt.subplot(313)\n",
        "plt.plot(residual, label=\"Residual\")\n",
        "\n",
        "\n"
      ],
      "metadata": {
        "colab": {
          "base_uri": "https://localhost:8080/",
          "height": 286
        },
        "id": "L7go0EiqfFxp",
        "outputId": "86a8ad47-cb45-47b6-ca48-c290ca6fe3e7"
      },
      "execution_count": null,
      "outputs": [
        {
          "output_type": "execute_result",
          "data": {
            "text/plain": [
              "[<matplotlib.lines.Line2D at 0x7f8dd78bbf70>]"
            ]
          },
          "metadata": {},
          "execution_count": 15
        },
        {
          "output_type": "display_data",
          "data": {
            "text/plain": [
              "<Figure size 432x288 with 3 Axes>"
            ],
            "image/png": "[encoded data removed]"
          },
          "metadata": {
            "needs_background": "light"
          }
        }
      ]
    },
    {
      "cell_type": "code",
      "source": [
        "plt.plot(seasonality, label=\"Stationarity\")"
      ],
      "metadata": {
        "colab": {
          "base_uri": "https://localhost:8080/",
          "height": 282
        },
        "id": "hU4mRISzghHz",
        "outputId": "a726d8c4-4d7f-441d-d9e5-6416428a229a"
      },
      "execution_count": null,
      "outputs": [
        {
          "output_type": "execute_result",
          "data": {
            "text/plain": [
              "[<matplotlib.lines.Line2D at 0x7f8dd77f63d0>]"
            ]
          },
          "metadata": {},
          "execution_count": 16
        },
        {
          "output_type": "display_data",
          "data": {
            "text/plain": [
              "<Figure size 432x288 with 1 Axes>"
            ],
            "image/png": "[encoded data removed]"
          },
          "metadata": {
            "needs_background": "light"
          }
        }
      ]
    },
    {
      "cell_type": "code",
      "source": [
        "df['heartrate_log'] = np.log(df)\n",
        "plt.plot(df['heartrate_log'])"
      ],
      "metadata": {
        "id": "RfYB1iac5wUU",
        "colab": {
          "base_uri": "https://localhost:8080/",
          "height": 282
        },
        "outputId": "570ee69d-e5a6-4153-87d4-a537e34add5a"
      },
      "execution_count": null,
      "outputs": [
        {
          "output_type": "execute_result",
          "data": {
            "text/plain": [
              "[<matplotlib.lines.Line2D at 0x7f8dd737a910>]"
            ]
          },
          "metadata": {},
          "execution_count": 17
        },
        {
          "output_type": "display_data",
          "data": {
            "text/plain": [
              "<Figure size 432x288 with 1 Axes>"
            ],
            "image/png": "[encoded data removed]"
          },
          "metadata": {
            "needs_background": "light"
          }
        }
      ]
    },
    {
      "cell_type": "code",
      "source": [
        "df.head()"
      ],
      "metadata": {
        "colab": {
          "base_uri": "https://localhost:8080/",
          "height": 232
        },
        "id": "dOgw_Z_gqiRP",
        "outputId": "da1895dd-bbd6-42c3-9948-e8935c8fca06"
      },
      "execution_count": null,
      "outputs": [
        {
          "output_type": "execute_result",
          "data": {
            "text/plain": [
              "                     Lifetouch Heart Rate  heartrate_log\n",
              "Timestamp                                               \n",
              "2015-08-17 15:09:00                 139.0       4.934474\n",
              "2015-08-17 15:10:00                 144.0       4.969813\n",
              "2015-08-17 15:11:00                 140.0       4.941642\n",
              "2015-08-17 15:12:00                 138.0       4.927254\n",
              "2015-08-17 15:13:00                 133.0       4.890349"
            ],
            "text/html": [
              "\n",
              "  <div id=\"df-6b766d6a-c54b-4a95-96b5-3cd252b88f7c\">\n",
              "    <div class=\"colab-df-container\">\n",
              "      <div>\n",
              "<style scoped>\n",
              "    .dataframe tbody tr th:only-of-type {\n",
              "        vertical-align: middle;\n",
              "    }\n",
              "\n",
              "    .dataframe tbody tr th {\n",
              "        vertical-align: top;\n",
              "    }\n",
              "\n",
              "    .dataframe thead th {\n",
              "        text-align: right;\n",
              "    }\n",
              "</style>\n",
              "<table border=\"1\" class=\"dataframe\">\n",
              "  <thead>\n",
              "    <tr style=\"text-align: right;\">\n",
              "      <th></th>\n",
              "      <th>Lifetouch Heart Rate</th>\n",
              "      <th>heartrate_log</th>\n",
              "    </tr>\n",
              "    <tr>\n",
              "      <th>Timestamp</th>\n",
              "      <th></th>\n",
              "      <th></th>\n",
              "    </tr>\n",
              "  </thead>\n",
              "  <tbody>\n",
              "    <tr>\n",
              "      <th>2015-08-17 15:09:00</th>\n",
              "      <td>139.0</td>\n",
              "      <td>4.934474</td>\n",
              "    </tr>\n",
              "    <tr>\n",
              "      <th>2015-08-17 15:10:00</th>\n",
              "      <td>144.0</td>\n",
              "      <td>4.969813</td>\n",
              "    </tr>\n",
              "    <tr>\n",
              "      <th>2015-08-17 15:11:00</th>\n",
              "      <td>140.0</td>\n",
              "      <td>4.941642</td>\n",
              "    </tr>\n",
              "    <tr>\n",
              "      <th>2015-08-17 15:12:00</th>\n",
              "      <td>138.0</td>\n",
              "      <td>4.927254</td>\n",
              "    </tr>\n",
              "    <tr>\n",
              "      <th>2015-08-17 15:13:00</th>\n",
              "      <td>133.0</td>\n",
              "      <td>4.890349</td>\n",
              "    </tr>\n",
              "  </tbody>\n",
              "</table>\n",
              "</div>\n",
              "      <button class=\"colab-df-convert\" onclick=\"convertToInteractive('df-6b766d6a-c54b-4a95-96b5-3cd252b88f7c')\"\n",
              "              title=\"Convert this dataframe to an interactive table.\"\n",
              "              style=\"display:none;\">\n",
              "        \n",
              "  <svg xmlns=\"http://www.w3.org/2000/svg\" height=\"24px\"viewBox=\"0 0 24 24\"\n",
              "       width=\"24px\">\n",
              "    <path d=\"M0 0h24v24H0V0z\" fill=\"none\"/>\n",
              "    <path d=\"M18.56 5.44l.94 2.06.94-2.06 2.06-.94-2.06-.94-.94-2.06-.94 2.06-2.06.94zm-11 1L8.5 8.5l.94-2.06 2.06-.94-2.06-.94L8.5 2.5l-.94 2.06-2.06.94zm10 10l.94 2.06.94-2.06 2.06-.94-2.06-.94-.94-2.06-.94 2.06-2.06.94z\"/><path d=\"M17.41 7.96l-1.37-1.37c-.4-.4-.92-.59-1.43-.59-.52 0-1.04.2-1.43.59L10.3 9.45l-7.72 7.72c-.78.78-.78 2.05 0 2.83L4 21.41c.39.39.9.59 1.41.59.51 0 1.02-.2 1.41-.59l7.78-7.78 2.81-2.81c.8-.78.8-2.07 0-2.86zM5.41 20L4 18.59l7.72-7.72 1.47 1.35L5.41 20z\"/>\n",
              "  </svg>\n",
              "      </button>\n",
              "      \n",
              "  <style>\n",
              "    .colab-df-container {\n",
              "      display:flex;\n",
              "      flex-wrap:wrap;\n",
              "      gap: 12px;\n",
              "    }\n",
              "\n",
              "    .colab-df-convert {\n",
              "      background-color: #E8F0FE;\n",
              "      border: none;\n",
              "      border-radius: 50%;\n",
              "      cursor: pointer;\n",
              "      display: none;\n",
              "      fill: #1967D2;\n",
              "      height: 32px;\n",
              "      padding: 0 0 0 0;\n",
              "      width: 32px;\n",
              "    }\n",
              "\n",
              "    .colab-df-convert:hover {\n",
              "      background-color: #E2EBFA;\n",
              "      box-shadow: 0px 1px 2px rgba(60, 64, 67, 0.3), 0px 1px 3px 1px rgba(60, 64, 67, 0.15);\n",
              "      fill: #174EA6;\n",
              "    }\n",
              "\n",
              "    [theme=dark] .colab-df-convert {\n",
              "      background-color: #3B4455;\n",
              "      fill: #D2E3FC;\n",
              "    }\n",
              "\n",
              "    [theme=dark] .colab-df-convert:hover {\n",
              "      background-color: #434B5C;\n",
              "      box-shadow: 0px 1px 3px 1px rgba(0, 0, 0, 0.15);\n",
              "      filter: drop-shadow(0px 1px 2px rgba(0, 0, 0, 0.3));\n",
              "      fill: #FFFFFF;\n",
              "    }\n",
              "  </style>\n",
              "\n",
              "      <script>\n",
              "        const buttonEl =\n",
              "          document.querySelector('#df-6b766d6a-c54b-4a95-96b5-3cd252b88f7c button.colab-df-convert');\n",
              "        buttonEl.style.display =\n",
              "          google.colab.kernel.accessAllowed ? 'block' : 'none';\n",
              "\n",
              "        async function convertToInteractive(key) {\n",
              "          const element = document.querySelector('#df-6b766d6a-c54b-4a95-96b5-3cd252b88f7c');\n",
              "          const dataTable =\n",
              "            await google.colab.kernel.invokeFunction('convertToInteractive',\n",
              "                                                     [key], {});\n",
              "          if (!dataTable) return;\n",
              "\n",
              "          const docLinkHtml = 'Like what you see? Visit the ' +\n",
              "            '<a target=\"_blank\" href=https://colab.research.google.com/notebooks/data_table.ipynb>data table notebook</a>'\n",
              "            + ' to learn more about interactive tables.';\n",
              "          element.innerHTML = '';\n",
              "          dataTable['output_type'] = 'display_data';\n",
              "          await google.colab.output.renderOutput(dataTable, element);\n",
              "          const docLink = document.createElement('div');\n",
              "          docLink.innerHTML = docLinkHtml;\n",
              "          element.appendChild(docLink);\n",
              "        }\n",
              "      </script>\n",
              "    </div>\n",
              "  </div>\n",
              "  "
            ]
          },
          "metadata": {},
          "execution_count": 18
        }
      ]
    },
    {
      "cell_type": "code",
      "source": [
        "plt.figure(figsize = (4,4))\n",
        "df['heartrate_diff'] =df['heartrate_log'].diff(periods=1)\n",
        "plt.plot(df['heartrate_diff'])"
      ],
      "metadata": {
        "id": "T9FNAwmb9ahj",
        "colab": {
          "base_uri": "https://localhost:8080/",
          "height": 282
        },
        "outputId": "ffb20d9b-6714-49d5-f061-9a204cc5ee16"
      },
      "execution_count": null,
      "outputs": [
        {
          "output_type": "execute_result",
          "data": {
            "text/plain": [
              "[<matplotlib.lines.Line2D at 0x7f8dd7307460>]"
            ]
          },
          "metadata": {},
          "execution_count": 19
        },
        {
          "output_type": "display_data",
          "data": {
            "text/plain": [
              "<Figure size 288x288 with 1 Axes>"
            ],
            "image/png": "[encoded data removed]"
          },
          "metadata": {
            "needs_background": "light"
          }
        }
      ]
    },
    {
      "cell_type": "code",
      "source": [
        "df.head()"
      ],
      "metadata": {
        "colab": {
          "base_uri": "https://localhost:8080/",
          "height": 232
        },
        "id": "KTUSUPybAe6i",
        "outputId": "97ef6d63-5274-49de-a3cc-2fe0eac2047a"
      },
      "execution_count": null,
      "outputs": [
        {
          "output_type": "execute_result",
          "data": {
            "text/plain": [
              "                     Lifetouch Heart Rate  heartrate_log  heartrate_diff\n",
              "Timestamp                                                               \n",
              "2015-08-17 15:09:00                 139.0       4.934474             NaN\n",
              "2015-08-17 15:10:00                 144.0       4.969813        0.035339\n",
              "2015-08-17 15:11:00                 140.0       4.941642       -0.028171\n",
              "2015-08-17 15:12:00                 138.0       4.927254       -0.014389\n",
              "2015-08-17 15:13:00                 133.0       4.890349       -0.036905"
            ],
            "text/html": [
              "\n",
              "  <div id=\"df-0c4b1f87-1f4c-4e4e-8d37-c751ee5de7b8\">\n",
              "    <div class=\"colab-df-container\">\n",
              "      <div>\n",
              "<style scoped>\n",
              "    .dataframe tbody tr th:only-of-type {\n",
              "        vertical-align: middle;\n",
              "    }\n",
              "\n",
              "    .dataframe tbody tr th {\n",
              "        vertical-align: top;\n",
              "    }\n",
              "\n",
              "    .dataframe thead th {\n",
              "        text-align: right;\n",
              "    }\n",
              "</style>\n",
              "<table border=\"1\" class=\"dataframe\">\n",
              "  <thead>\n",
              "    <tr style=\"text-align: right;\">\n",
              "      <th></th>\n",
              "      <th>Lifetouch Heart Rate</th>\n",
              "      <th>heartrate_log</th>\n",
              "      <th>heartrate_diff</th>\n",
              "    </tr>\n",
              "    <tr>\n",
              "      <th>Timestamp</th>\n",
              "      <th></th>\n",
              "      <th></th>\n",
              "      <th></th>\n",
              "    </tr>\n",
              "  </thead>\n",
              "  <tbody>\n",
              "    <tr>\n",
              "      <th>2015-08-17 15:09:00</th>\n",
              "      <td>139.0</td>\n",
              "      <td>4.934474</td>\n",
              "      <td>NaN</td>\n",
              "    </tr>\n",
              "    <tr>\n",
              "      <th>2015-08-17 15:10:00</th>\n",
              "      <td>144.0</td>\n",
              "      <td>4.969813</td>\n",
              "      <td>0.035339</td>\n",
              "    </tr>\n",
              "    <tr>\n",
              "      <th>2015-08-17 15:11:00</th>\n",
              "      <td>140.0</td>\n",
              "      <td>4.941642</td>\n",
              "      <td>-0.028171</td>\n",
              "    </tr>\n",
              "    <tr>\n",
              "      <th>2015-08-17 15:12:00</th>\n",
              "      <td>138.0</td>\n",
              "      <td>4.927254</td>\n",
              "      <td>-0.014389</td>\n",
              "    </tr>\n",
              "    <tr>\n",
              "      <th>2015-08-17 15:13:00</th>\n",
              "      <td>133.0</td>\n",
              "      <td>4.890349</td>\n",
              "      <td>-0.036905</td>\n",
              "    </tr>\n",
              "  </tbody>\n",
              "</table>\n",
              "</div>\n",
              "      <button class=\"colab-df-convert\" onclick=\"convertToInteractive('df-0c4b1f87-1f4c-4e4e-8d37-c751ee5de7b8')\"\n",
              "              title=\"Convert this dataframe to an interactive table.\"\n",
              "              style=\"display:none;\">\n",
              "        \n",
              "  <svg xmlns=\"http://www.w3.org/2000/svg\" height=\"24px\"viewBox=\"0 0 24 24\"\n",
              "       width=\"24px\">\n",
              "    <path d=\"M0 0h24v24H0V0z\" fill=\"none\"/>\n",
              "    <path d=\"M18.56 5.44l.94 2.06.94-2.06 2.06-.94-2.06-.94-.94-2.06-.94 2.06-2.06.94zm-11 1L8.5 8.5l.94-2.06 2.06-.94-2.06-.94L8.5 2.5l-.94 2.06-2.06.94zm10 10l.94 2.06.94-2.06 2.06-.94-2.06-.94-.94-2.06-.94 2.06-2.06.94z\"/><path d=\"M17.41 7.96l-1.37-1.37c-.4-.4-.92-.59-1.43-.59-.52 0-1.04.2-1.43.59L10.3 9.45l-7.72 7.72c-.78.78-.78 2.05 0 2.83L4 21.41c.39.39.9.59 1.41.59.51 0 1.02-.2 1.41-.59l7.78-7.78 2.81-2.81c.8-.78.8-2.07 0-2.86zM5.41 20L4 18.59l7.72-7.72 1.47 1.35L5.41 20z\"/>\n",
              "  </svg>\n",
              "      </button>\n",
              "      \n",
              "  <style>\n",
              "    .colab-df-container {\n",
              "      display:flex;\n",
              "      flex-wrap:wrap;\n",
              "      gap: 12px;\n",
              "    }\n",
              "\n",
              "    .colab-df-convert {\n",
              "      background-color: #E8F0FE;\n",
              "      border: none;\n",
              "      border-radius: 50%;\n",
              "      cursor: pointer;\n",
              "      display: none;\n",
              "      fill: #1967D2;\n",
              "      height: 32px;\n",
              "      padding: 0 0 0 0;\n",
              "      width: 32px;\n",
              "    }\n",
              "\n",
              "    .colab-df-convert:hover {\n",
              "      background-color: #E2EBFA;\n",
              "      box-shadow: 0px 1px 2px rgba(60, 64, 67, 0.3), 0px 1px 3px 1px rgba(60, 64, 67, 0.15);\n",
              "      fill: #174EA6;\n",
              "    }\n",
              "\n",
              "    [theme=dark] .colab-df-convert {\n",
              "      background-color: #3B4455;\n",
              "      fill: #D2E3FC;\n",
              "    }\n",
              "\n",
              "    [theme=dark] .colab-df-convert:hover {\n",
              "      background-color: #434B5C;\n",
              "      box-shadow: 0px 1px 3px 1px rgba(0, 0, 0, 0.15);\n",
              "      filter: drop-shadow(0px 1px 2px rgba(0, 0, 0, 0.3));\n",
              "      fill: #FFFFFF;\n",
              "    }\n",
              "  </style>\n",
              "\n",
              "      <script>\n",
              "        const buttonEl =\n",
              "          document.querySelector('#df-0c4b1f87-1f4c-4e4e-8d37-c751ee5de7b8 button.colab-df-convert');\n",
              "        buttonEl.style.display =\n",
              "          google.colab.kernel.accessAllowed ? 'block' : 'none';\n",
              "\n",
              "        async function convertToInteractive(key) {\n",
              "          const element = document.querySelector('#df-0c4b1f87-1f4c-4e4e-8d37-c751ee5de7b8');\n",
              "          const dataTable =\n",
              "            await google.colab.kernel.invokeFunction('convertToInteractive',\n",
              "                                                     [key], {});\n",
              "          if (!dataTable) return;\n",
              "\n",
              "          const docLinkHtml = 'Like what you see? Visit the ' +\n",
              "            '<a target=\"_blank\" href=https://colab.research.google.com/notebooks/data_table.ipynb>data table notebook</a>'\n",
              "            + ' to learn more about interactive tables.';\n",
              "          element.innerHTML = '';\n",
              "          dataTable['output_type'] = 'display_data';\n",
              "          await google.colab.output.renderOutput(dataTable, element);\n",
              "          const docLink = document.createElement('div');\n",
              "          docLink.innerHTML = docLinkHtml;\n",
              "          element.appendChild(docLink);\n",
              "        }\n",
              "      </script>\n",
              "    </div>\n",
              "  </div>\n",
              "  "
            ]
          },
          "metadata": {},
          "execution_count": 20
        }
      ]
    },
    {
      "cell_type": "code",
      "source": [
        "train = df['heartrate_diff'].iloc[:206]\n",
        "test = df['heartrate_diff'].iloc[206:]"
      ],
      "metadata": {
        "id": "SoG0kSQ6LYHk"
      },
      "execution_count": null,
      "outputs": []
    },
    {
      "cell_type": "code",
      "source": [
        "model = pm.auto_arima(train.iloc[1:], start_p=1, start_q=1,\n",
        "                      test='adf',       # use adftest to find optimal 'd'\n",
        "                      max_p=10, max_q=10, # maximum p and q\n",
        "                      m=1,              # frequency of series\n",
        "                      d=None,           # let model determine 'd'\n",
        "                      seasonal=True,   # No Seasonality\n",
        "                      start_P=0, \n",
        "                      D=0, \n",
        "                      trace=True,\n",
        "                      error_action='ignore',  \n",
        "                      suppress_warnings=True, \n",
        "                      stepwise=True)\n",
        "\n",
        "print(model.summary())"
      ],
      "metadata": {
        "id": "lmZ6o8HvIxqI",
        "colab": {
          "base_uri": "https://localhost:8080/"
        },
        "outputId": "78ed3122-9788-4101-d843-79bec0f62a8e"
      },
      "execution_count": null,
      "outputs": [
        {
          "output_type": "stream",
          "name": "stdout",
          "text": [
            "Performing stepwise search to minimize aic\n",
            " ARIMA(1,0,1)(0,0,0)[0] intercept   : AIC=-763.911, Time=0.62 sec\n",
            " ARIMA(0,0,0)(0,0,0)[0] intercept   : AIC=-743.344, Time=0.06 sec\n",
            " ARIMA(1,0,0)(0,0,0)[0] intercept   : AIC=-745.053, Time=0.06 sec\n",
            " ARIMA(0,0,1)(0,0,0)[0] intercept   : AIC=-750.068, Time=0.24 sec\n",
            " ARIMA(0,0,0)(0,0,0)[0]             : AIC=-745.292, Time=0.05 sec\n",
            " ARIMA(2,0,1)(0,0,0)[0] intercept   : AIC=-764.803, Time=1.05 sec\n",
            " ARIMA(2,0,0)(0,0,0)[0] intercept   : AIC=-762.604, Time=0.59 sec\n",
            " ARIMA(3,0,1)(0,0,0)[0] intercept   : AIC=-765.639, Time=1.32 sec\n",
            " ARIMA(3,0,0)(0,0,0)[0] intercept   : AIC=-760.617, Time=0.36 sec\n",
            " ARIMA(4,0,1)(0,0,0)[0] intercept   : AIC=-768.523, Time=1.77 sec\n",
            " ARIMA(4,0,0)(0,0,0)[0] intercept   : AIC=-768.906, Time=0.57 sec\n",
            " ARIMA(5,0,0)(0,0,0)[0] intercept   : AIC=-767.305, Time=0.57 sec\n",
            " ARIMA(5,0,1)(0,0,0)[0] intercept   : AIC=-766.596, Time=1.71 sec\n",
            " ARIMA(4,0,0)(0,0,0)[0]             : AIC=-770.764, Time=0.29 sec\n",
            " ARIMA(3,0,0)(0,0,0)[0]             : AIC=-762.525, Time=0.07 sec\n",
            " ARIMA(5,0,0)(0,0,0)[0]             : AIC=-769.147, Time=0.49 sec\n",
            " ARIMA(4,0,1)(0,0,0)[0]             : AIC=-770.297, Time=0.84 sec\n",
            " ARIMA(3,0,1)(0,0,0)[0]             : AIC=-767.622, Time=0.69 sec\n",
            " ARIMA(5,0,1)(0,0,0)[0]             : AIC=-769.527, Time=1.02 sec\n",
            "\n",
            "Best model:  ARIMA(4,0,0)(0,0,0)[0]          \n",
            "Total fit time: 12.454 seconds\n",
            "                               SARIMAX Results                                \n",
            "==============================================================================\n",
            "Dep. Variable:                      y   No. Observations:                  205\n",
            "Model:               SARIMAX(4, 0, 0)   Log Likelihood                 390.382\n",
            "Date:                Sun, 19 Feb 2023   AIC                           -770.764\n",
            "Time:                        23:12:43   BIC                           -754.149\n",
            "Sample:                    08-17-2015   HQIC                          -764.044\n",
            "                         - 08-17-2015                                         \n",
            "Covariance Type:                  opg                                         \n",
            "==============================================================================\n",
            "                 coef    std err          z      P>|z|      [0.025      0.975]\n",
            "------------------------------------------------------------------------------\n",
            "ar.L1         -0.1782      0.070     -2.547      0.011      -0.315      -0.041\n",
            "ar.L2         -0.3714      0.026    -14.395      0.000      -0.422      -0.321\n",
            "ar.L3         -0.0470      0.069     -0.678      0.498      -0.183       0.089\n",
            "ar.L4         -0.2213      0.036     -6.161      0.000      -0.292      -0.151\n",
            "sigma2         0.0013    5.3e-05     24.465      0.000       0.001       0.001\n",
            "===================================================================================\n",
            "Ljung-Box (L1) (Q):                   0.03   Jarque-Bera (JB):              3922.17\n",
            "Prob(Q):                              0.87   Prob(JB):                         0.00\n",
            "Heteroskedasticity (H):               0.21   Skew:                            -1.25\n",
            "Prob(H) (two-sided):                  0.00   Kurtosis:                        24.28\n",
            "===================================================================================\n",
            "\n",
            "Warnings:\n",
            "[1] Covariance matrix calculated using the outer product of gradients (complex-step).\n"
          ]
        }
      ]
    },
    {
      "cell_type": "code",
      "source": [
        "model = sm.tsa.arima.ARIMA(train, order=(4,0,0))\n",
        "model_fit = model.fit()\n",
        "print(model_fit.summary())"
      ],
      "metadata": {
        "id": "26CtkNaEI8Oe",
        "colab": {
          "base_uri": "https://localhost:8080/"
        },
        "outputId": "4b16aede-32b6-41e6-bf73-eb5e27dbe7ff"
      },
      "execution_count": null,
      "outputs": [
        {
          "output_type": "stream",
          "name": "stderr",
          "text": [
            "/usr/local/lib/python3.8/dist-packages/statsmodels/tsa/base/tsa_model.py:471: ValueWarning: No frequency information was provided, so inferred frequency T will be used.\n",
            "  self._init_dates(dates, freq)\n",
            "/usr/local/lib/python3.8/dist-packages/statsmodels/tsa/base/tsa_model.py:471: ValueWarning: No frequency information was provided, so inferred frequency T will be used.\n",
            "  self._init_dates(dates, freq)\n",
            "/usr/local/lib/python3.8/dist-packages/statsmodels/tsa/base/tsa_model.py:471: ValueWarning: No frequency information was provided, so inferred frequency T will be used.\n",
            "  self._init_dates(dates, freq)\n"
          ]
        },
        {
          "output_type": "stream",
          "name": "stdout",
          "text": [
            "                               SARIMAX Results                                \n",
            "==============================================================================\n",
            "Dep. Variable:         heartrate_diff   No. Observations:                  206\n",
            "Model:                 ARIMA(4, 0, 0)   Log Likelihood                 390.453\n",
            "Date:                Sun, 19 Feb 2023   AIC                           -768.906\n",
            "Time:                        23:12:44   BIC                           -748.939\n",
            "Sample:                    08-17-2015   HQIC                          -760.831\n",
            "                         - 08-17-2015                                         \n",
            "Covariance Type:                  opg                                         \n",
            "==============================================================================\n",
            "                 coef    std err          z      P>|z|      [0.025      0.975]\n",
            "------------------------------------------------------------------------------\n",
            "const          0.0005      0.002      0.313      0.755      -0.003       0.004\n",
            "ar.L1         -0.1785      0.071     -2.503      0.012      -0.318      -0.039\n",
            "ar.L2         -0.3717      0.026    -14.093      0.000      -0.423      -0.320\n",
            "ar.L3         -0.0474      0.076     -0.628      0.530      -0.195       0.101\n",
            "ar.L4         -0.2219      0.036     -6.115      0.000      -0.293      -0.151\n",
            "sigma2         0.0013   5.39e-05     24.000      0.000       0.001       0.001\n",
            "===================================================================================\n",
            "Ljung-Box (L1) (Q):                   0.02   Jarque-Bera (JB):              3980.52\n",
            "Prob(Q):                              0.87   Prob(JB):                         0.00\n",
            "Heteroskedasticity (H):               0.22   Skew:                            -1.25\n",
            "Prob(H) (two-sided):                  0.00   Kurtosis:                        24.39\n",
            "===================================================================================\n",
            "\n",
            "Warnings:\n",
            "[1] Covariance matrix calculated using the outer product of gradients (complex-step).\n"
          ]
        }
      ]
    },
    {
      "cell_type": "code",
      "source": [
        "test"
      ],
      "metadata": {
        "colab": {
          "base_uri": "https://localhost:8080/"
        },
        "id": "NcRYhAf663ld",
        "outputId": "b0b96fbe-4b7d-4844-8858-0ea5fc6e2930"
      },
      "execution_count": null,
      "outputs": [
        {
          "output_type": "execute_result",
          "data": {
            "text/plain": [
              "Timestamp\n",
              "2015-08-17 18:35:00    0.006309\n",
              "2015-08-17 18:36:00    0.006270\n",
              "2015-08-17 18:37:00   -0.031749\n",
              "2015-08-17 18:38:00    0.000000\n",
              "2015-08-17 18:39:00   -0.046213\n",
              "2015-08-17 18:40:00    0.000000\n",
              "2015-08-17 18:41:00    0.026668\n",
              "2015-08-17 18:42:00    0.000000\n",
              "2015-08-17 18:43:00   -0.013245\n",
              "2015-08-17 18:44:00    0.019803\n",
              "2015-08-17 18:45:00    0.032157\n",
              "2015-08-17 18:46:00    0.000000\n",
              "2015-08-17 18:47:00   -0.025642\n",
              "2015-08-17 18:48:00    0.006473\n",
              "2015-08-17 18:49:00    0.012821\n",
              "2015-08-17 18:50:00    0.012658\n",
              "2015-08-17 18:51:00   -0.051624\n",
              "2015-08-17 18:52:00   -0.075637\n",
              "2015-08-17 18:53:00    0.000000\n",
              "2015-08-17 18:54:00   -0.014389\n",
              "Name: heartrate_diff, dtype: float64"
            ]
          },
          "metadata": {},
          "execution_count": 24
        }
      ]
    },
    {
      "cell_type": "code",
      "source": [
        "# Plot residual errors\n",
        "residuals = pd.DataFrame(model_fit.resid)\n",
        "fig, ax = plt.subplots(1,2)\n",
        "residuals.plot(title=\"Residuals\", ax=ax[0])\n",
        "residuals.plot(kind='kde', title='Density', ax=ax[1])\n",
        "plt.show()\n"
      ],
      "metadata": {
        "id": "hzDcS2XTKSko",
        "colab": {
          "base_uri": "https://localhost:8080/",
          "height": 296
        },
        "outputId": "ee610d53-b9df-42e1-885b-7b686ce81401"
      },
      "execution_count": null,
      "outputs": [
        {
          "output_type": "display_data",
          "data": {
            "text/plain": [
              "<Figure size 432x288 with 2 Axes>"
            ],
            "image/png": "[encoded data removed]"
          },
          "metadata": {
            "needs_background": "light"
          }
        }
      ]
    },
    {
      "cell_type": "code",
      "source": [
        "start = len(train)\n",
        "end = len(train)+len(test)-1\n",
        "pred = model_fit.predict(start = start, end = end, exog=None, dynamic=False, type='levels')"
      ],
      "metadata": {
        "id": "R7uc-xGorfU-"
      },
      "execution_count": null,
      "outputs": []
    },
    {
      "cell_type": "code",
      "source": [
        "pred"
      ],
      "metadata": {
        "colab": {
          "base_uri": "https://localhost:8080/"
        },
        "id": "sHXwWvWHsvRw",
        "outputId": "5d3fb70f-a6f9-49ca-aa5a-ddef77be90cd"
      },
      "execution_count": null,
      "outputs": [
        {
          "output_type": "execute_result",
          "data": {
            "text/plain": [
              "2015-08-17 18:35:00   -0.019093\n",
              "2015-08-17 18:36:00   -0.001383\n",
              "2015-08-17 18:37:00   -0.003995\n",
              "2015-08-17 18:38:00    0.000251\n",
              "2015-08-17 18:39:00    0.006687\n",
              "2015-08-17 18:40:00    0.000154\n",
              "2015-08-17 18:41:00   -0.000694\n",
              "2015-08-17 18:42:00    0.000639\n",
              "2015-08-17 18:43:00   -0.000402\n",
              "2015-08-17 18:44:00    0.000778\n",
              "2015-08-17 18:45:00    0.001079\n",
              "2015-08-17 18:46:00    0.000340\n",
              "2015-08-17 18:47:00    0.000535\n",
              "2015-08-17 18:48:00    0.000499\n",
              "2015-08-17 18:49:00    0.000401\n",
              "2015-08-17 18:50:00    0.000587\n",
              "2015-08-17 18:51:00    0.000549\n",
              "2015-08-17 18:52:00    0.000499\n",
              "2015-08-17 18:53:00    0.000535\n",
              "2015-08-17 18:54:00    0.000508\n",
              "Freq: T, Name: predicted_mean, dtype: float64"
            ]
          },
          "metadata": {},
          "execution_count": 27
        }
      ]
    },
    {
      "cell_type": "code",
      "source": [
        "plt.plot(pred, label='Prediction',color='green')"
      ],
      "metadata": {
        "colab": {
          "base_uri": "https://localhost:8080/",
          "height": 282
        },
        "id": "cQpazyxGss9r",
        "outputId": "cb90b6b5-e15f-4991-9eba-3fcb4049eb84"
      },
      "execution_count": null,
      "outputs": [
        {
          "output_type": "execute_result",
          "data": {
            "text/plain": [
              "[<matplotlib.lines.Line2D at 0x7f8dd320deb0>]"
            ]
          },
          "metadata": {},
          "execution_count": 28
        },
        {
          "output_type": "display_data",
          "data": {
            "text/plain": [
              "<Figure size 432x288 with 1 Axes>"
            ],
            "image/png": "[encoded data removed]"
          },
          "metadata": {
            "needs_background": "light"
          }
        }
      ]
    },
    {
      "cell_type": "code",
      "source": [
        "df"
      ],
      "metadata": {
        "colab": {
          "base_uri": "https://localhost:8080/",
          "height": 444
        },
        "id": "6ntsyXExHL7Z",
        "outputId": "94b0ee7c-18f8-406c-c680-5158e5573dfc"
      },
      "execution_count": null,
      "outputs": [
        {
          "output_type": "execute_result",
          "data": {
            "text/plain": [
              "                     Lifetouch Heart Rate  heartrate_log  heartrate_diff\n",
              "Timestamp                                                               \n",
              "2015-08-17 15:09:00                 139.0       4.934474             NaN\n",
              "2015-08-17 15:10:00                 144.0       4.969813        0.035339\n",
              "2015-08-17 15:11:00                 140.0       4.941642       -0.028171\n",
              "2015-08-17 15:12:00                 138.0       4.927254       -0.014389\n",
              "2015-08-17 15:13:00                 133.0       4.890349       -0.036905\n",
              "...                                   ...            ...             ...\n",
              "2015-08-17 18:50:00                 159.0       5.068904        0.012658\n",
              "2015-08-17 18:51:00                 151.0       5.017280       -0.051624\n",
              "2015-08-17 18:52:00                 140.0       4.941642       -0.075637\n",
              "2015-08-17 18:53:00                 140.0       4.941642        0.000000\n",
              "2015-08-17 18:54:00                 138.0       4.927254       -0.014389\n",
              "\n",
              "[226 rows x 3 columns]"
            ],
            "text/html": [
              "\n",
              "  <div id=\"df-976718c1-bf73-4aca-a3b4-1b1e4f278f71\">\n",
              "    <div class=\"colab-df-container\">\n",
              "      <div>\n",
              "<style scoped>\n",
              "    .dataframe tbody tr th:only-of-type {\n",
              "        vertical-align: middle;\n",
              "    }\n",
              "\n",
              "    .dataframe tbody tr th {\n",
              "        vertical-align: top;\n",
              "    }\n",
              "\n",
              "    .dataframe thead th {\n",
              "        text-align: right;\n",
              "    }\n",
              "</style>\n",
              "<table border=\"1\" class=\"dataframe\">\n",
              "  <thead>\n",
              "    <tr style=\"text-align: right;\">\n",
              "      <th></th>\n",
              "      <th>Lifetouch Heart Rate</th>\n",
              "      <th>heartrate_log</th>\n",
              "      <th>heartrate_diff</th>\n",
              "    </tr>\n",
              "    <tr>\n",
              "      <th>Timestamp</th>\n",
              "      <th></th>\n",
              "      <th></th>\n",
              "      <th></th>\n",
              "    </tr>\n",
              "  </thead>\n",
              "  <tbody>\n",
              "    <tr>\n",
              "      <th>2015-08-17 15:09:00</th>\n",
              "      <td>139.0</td>\n",
              "      <td>4.934474</td>\n",
              "      <td>NaN</td>\n",
              "    </tr>\n",
              "    <tr>\n",
              "      <th>2015-08-17 15:10:00</th>\n",
              "      <td>144.0</td>\n",
              "      <td>4.969813</td>\n",
              "      <td>0.035339</td>\n",
              "    </tr>\n",
              "    <tr>\n",
              "      <th>2015-08-17 15:11:00</th>\n",
              "      <td>140.0</td>\n",
              "      <td>4.941642</td>\n",
              "      <td>-0.028171</td>\n",
              "    </tr>\n",
              "    <tr>\n",
              "      <th>2015-08-17 15:12:00</th>\n",
              "      <td>138.0</td>\n",
              "      <td>4.927254</td>\n",
              "      <td>-0.014389</td>\n",
              "    </tr>\n",
              "    <tr>\n",
              "      <th>2015-08-17 15:13:00</th>\n",
              "      <td>133.0</td>\n",
              "      <td>4.890349</td>\n",
              "      <td>-0.036905</td>\n",
              "    </tr>\n",
              "    <tr>\n",
              "      <th>...</th>\n",
              "      <td>...</td>\n",
              "      <td>...</td>\n",
              "      <td>...</td>\n",
              "    </tr>\n",
              "    <tr>\n",
              "      <th>2015-08-17 18:50:00</th>\n",
              "      <td>159.0</td>\n",
              "      <td>5.068904</td>\n",
              "      <td>0.012658</td>\n",
              "    </tr>\n",
              "    <tr>\n",
              "      <th>2015-08-17 18:51:00</th>\n",
              "      <td>151.0</td>\n",
              "      <td>5.017280</td>\n",
              "      <td>-0.051624</td>\n",
              "    </tr>\n",
              "    <tr>\n",
              "      <th>2015-08-17 18:52:00</th>\n",
              "      <td>140.0</td>\n",
              "      <td>4.941642</td>\n",
              "      <td>-0.075637</td>\n",
              "    </tr>\n",
              "    <tr>\n",
              "      <th>2015-08-17 18:53:00</th>\n",
              "      <td>140.0</td>\n",
              "      <td>4.941642</td>\n",
              "      <td>0.000000</td>\n",
              "    </tr>\n",
              "    <tr>\n",
              "      <th>2015-08-17 18:54:00</th>\n",
              "      <td>138.0</td>\n",
              "      <td>4.927254</td>\n",
              "      <td>-0.014389</td>\n",
              "    </tr>\n",
              "  </tbody>\n",
              "</table>\n",
              "<p>226 rows × 3 columns</p>\n",
              "</div>\n",
              "      <button class=\"colab-df-convert\" onclick=\"convertToInteractive('df-976718c1-bf73-4aca-a3b4-1b1e4f278f71')\"\n",
              "              title=\"Convert this dataframe to an interactive table.\"\n",
              "              style=\"display:none;\">\n",
              "        \n",
              "  <svg xmlns=\"http://www.w3.org/2000/svg\" height=\"24px\"viewBox=\"0 0 24 24\"\n",
              "       width=\"24px\">\n",
              "    <path d=\"M0 0h24v24H0V0z\" fill=\"none\"/>\n",
              "    <path d=\"M18.56 5.44l.94 2.06.94-2.06 2.06-.94-2.06-.94-.94-2.06-.94 2.06-2.06.94zm-11 1L8.5 8.5l.94-2.06 2.06-.94-2.06-.94L8.5 2.5l-.94 2.06-2.06.94zm10 10l.94 2.06.94-2.06 2.06-.94-2.06-.94-.94-2.06-.94 2.06-2.06.94z\"/><path d=\"M17.41 7.96l-1.37-1.37c-.4-.4-.92-.59-1.43-.59-.52 0-1.04.2-1.43.59L10.3 9.45l-7.72 7.72c-.78.78-.78 2.05 0 2.83L4 21.41c.39.39.9.59 1.41.59.51 0 1.02-.2 1.41-.59l7.78-7.78 2.81-2.81c.8-.78.8-2.07 0-2.86zM5.41 20L4 18.59l7.72-7.72 1.47 1.35L5.41 20z\"/>\n",
              "  </svg>\n",
              "      </button>\n",
              "      \n",
              "  <style>\n",
              "    .colab-df-container {\n",
              "      display:flex;\n",
              "      flex-wrap:wrap;\n",
              "      gap: 12px;\n",
              "    }\n",
              "\n",
              "    .colab-df-convert {\n",
              "      background-color: #E8F0FE;\n",
              "      border: none;\n",
              "      border-radius: 50%;\n",
              "      cursor: pointer;\n",
              "      display: none;\n",
              "      fill: #1967D2;\n",
              "      height: 32px;\n",
              "      padding: 0 0 0 0;\n",
              "      width: 32px;\n",
              "    }\n",
              "\n",
              "    .colab-df-convert:hover {\n",
              "      background-color: #E2EBFA;\n",
              "      box-shadow: 0px 1px 2px rgba(60, 64, 67, 0.3), 0px 1px 3px 1px rgba(60, 64, 67, 0.15);\n",
              "      fill: #174EA6;\n",
              "    }\n",
              "\n",
              "    [theme=dark] .colab-df-convert {\n",
              "      background-color: #3B4455;\n",
              "      fill: #D2E3FC;\n",
              "    }\n",
              "\n",
              "    [theme=dark] .colab-df-convert:hover {\n",
              "      background-color: #434B5C;\n",
              "      box-shadow: 0px 1px 3px 1px rgba(0, 0, 0, 0.15);\n",
              "      filter: drop-shadow(0px 1px 2px rgba(0, 0, 0, 0.3));\n",
              "      fill: #FFFFFF;\n",
              "    }\n",
              "  </style>\n",
              "\n",
              "      <script>\n",
              "        const buttonEl =\n",
              "          document.querySelector('#df-976718c1-bf73-4aca-a3b4-1b1e4f278f71 button.colab-df-convert');\n",
              "        buttonEl.style.display =\n",
              "          google.colab.kernel.accessAllowed ? 'block' : 'none';\n",
              "\n",
              "        async function convertToInteractive(key) {\n",
              "          const element = document.querySelector('#df-976718c1-bf73-4aca-a3b4-1b1e4f278f71');\n",
              "          const dataTable =\n",
              "            await google.colab.kernel.invokeFunction('convertToInteractive',\n",
              "                                                     [key], {});\n",
              "          if (!dataTable) return;\n",
              "\n",
              "          const docLinkHtml = 'Like what you see? Visit the ' +\n",
              "            '<a target=\"_blank\" href=https://colab.research.google.com/notebooks/data_table.ipynb>data table notebook</a>'\n",
              "            + ' to learn more about interactive tables.';\n",
              "          element.innerHTML = '';\n",
              "          dataTable['output_type'] = 'display_data';\n",
              "          await google.colab.output.renderOutput(dataTable, element);\n",
              "          const docLink = document.createElement('div');\n",
              "          docLink.innerHTML = docLinkHtml;\n",
              "          element.appendChild(docLink);\n",
              "        }\n",
              "      </script>\n",
              "    </div>\n",
              "  </div>\n",
              "  "
            ]
          },
          "metadata": {},
          "execution_count": 29
        }
      ]
    },
    {
      "cell_type": "code",
      "source": [
        "df['wdout_diff_heart'] = df['heartrate_diff'].cumsum()+df['heartrate_log']"
      ],
      "metadata": {
        "id": "TheU2dZjuwDn"
      },
      "execution_count": null,
      "outputs": []
    },
    {
      "cell_type": "code",
      "source": [
        "df['wdout_log_heartrate']=  df['wdout_diff_heart'].apply(lambda x: np.exp(x))"
      ],
      "metadata": {
        "id": "0AvVqn7hwWtK"
      },
      "execution_count": null,
      "outputs": []
    },
    {
      "cell_type": "code",
      "source": [
        "df[\"wdout_diff_Prediction\"] = pred.cumsum()+df['heartrate_log'].iloc[206:]"
      ],
      "metadata": {
        "id": "b6uQUrKbw-nY"
      },
      "execution_count": null,
      "outputs": []
    },
    {
      "cell_type": "code",
      "source": [
        "df[\"wdout_log_Prediction\"] = df[\"wdout_diff_Prediction\"] .apply(lambda x: np.exp(x))"
      ],
      "metadata": {
        "id": "JmdbRJZnxVLS"
      },
      "execution_count": null,
      "outputs": []
    },
    {
      "cell_type": "code",
      "source": [
        "df.tail()"
      ],
      "metadata": {
        "colab": {
          "base_uri": "https://localhost:8080/",
          "height": 412
        },
        "id": "XKdmbOcjxf3C",
        "outputId": "266a66be-f642-4f5e-be43-1ab7f41fb034"
      },
      "execution_count": null,
      "outputs": [
        {
          "output_type": "execute_result",
          "data": {
            "text/plain": [
              "                     Lifetouch Heart Rate  heartrate_log  heartrate_diff  \\\n",
              "Timestamp                                                                  \n",
              "2015-08-17 18:50:00                 159.0       5.068904        0.012658   \n",
              "2015-08-17 18:51:00                 151.0       5.017280       -0.051624   \n",
              "2015-08-17 18:52:00                 140.0       4.941642       -0.075637   \n",
              "2015-08-17 18:53:00                 140.0       4.941642        0.000000   \n",
              "2015-08-17 18:54:00                 138.0       4.927254       -0.014389   \n",
              "\n",
              "                     wdout_diff_heart  wdout_log_heartrate  \\\n",
              "Timestamp                                                    \n",
              "2015-08-17 18:50:00          5.203334           181.877698   \n",
              "2015-08-17 18:51:00          5.100086           164.035971   \n",
              "2015-08-17 18:52:00          4.948811           141.007194   \n",
              "2015-08-17 18:53:00          4.948811           141.007194   \n",
              "2015-08-17 18:54:00          4.920033           137.007194   \n",
              "\n",
              "                     wdout_diff_Prediction  wdout_log_Prediction  \n",
              "Timestamp                                                         \n",
              "2015-08-17 18:50:00               5.055287            156.849538  \n",
              "2015-08-17 18:51:00               5.004211            149.039466  \n",
              "2015-08-17 18:52:00               4.929073            138.251264  \n",
              "2015-08-17 18:53:00               4.929608            138.325252  \n",
              "2015-08-17 18:54:00               4.915727            136.418408  "
            ],
            "text/html": [
              "\n",
              "  <div id=\"df-e94ed9e8-e187-49e2-941e-589b3b28c9d8\">\n",
              "    <div class=\"colab-df-container\">\n",
              "      <div>\n",
              "<style scoped>\n",
              "    .dataframe tbody tr th:only-of-type {\n",
              "        vertical-align: middle;\n",
              "    }\n",
              "\n",
              "    .dataframe tbody tr th {\n",
              "        vertical-align: top;\n",
              "    }\n",
              "\n",
              "    .dataframe thead th {\n",
              "        text-align: right;\n",
              "    }\n",
              "</style>\n",
              "<table border=\"1\" class=\"dataframe\">\n",
              "  <thead>\n",
              "    <tr style=\"text-align: right;\">\n",
              "      <th></th>\n",
              "      <th>Lifetouch Heart Rate</th>\n",
              "      <th>heartrate_log</th>\n",
              "      <th>heartrate_diff</th>\n",
              "      <th>wdout_diff_heart</th>\n",
              "      <th>wdout_log_heartrate</th>\n",
              "      <th>wdout_diff_Prediction</th>\n",
              "      <th>wdout_log_Prediction</th>\n",
              "    </tr>\n",
              "    <tr>\n",
              "      <th>Timestamp</th>\n",
              "      <th></th>\n",
              "      <th></th>\n",
              "      <th></th>\n",
              "      <th></th>\n",
              "      <th></th>\n",
              "      <th></th>\n",
              "      <th></th>\n",
              "    </tr>\n",
              "  </thead>\n",
              "  <tbody>\n",
              "    <tr>\n",
              "      <th>2015-08-17 18:50:00</th>\n",
              "      <td>159.0</td>\n",
              "      <td>5.068904</td>\n",
              "      <td>0.012658</td>\n",
              "      <td>5.203334</td>\n",
              "      <td>181.877698</td>\n",
              "      <td>5.055287</td>\n",
              "      <td>156.849538</td>\n",
              "    </tr>\n",
              "    <tr>\n",
              "      <th>2015-08-17 18:51:00</th>\n",
              "      <td>151.0</td>\n",
              "      <td>5.017280</td>\n",
              "      <td>-0.051624</td>\n",
              "      <td>5.100086</td>\n",
              "      <td>164.035971</td>\n",
              "      <td>5.004211</td>\n",
              "      <td>149.039466</td>\n",
              "    </tr>\n",
              "    <tr>\n",
              "      <th>2015-08-17 18:52:00</th>\n",
              "      <td>140.0</td>\n",
              "      <td>4.941642</td>\n",
              "      <td>-0.075637</td>\n",
              "      <td>4.948811</td>\n",
              "      <td>141.007194</td>\n",
              "      <td>4.929073</td>\n",
              "      <td>138.251264</td>\n",
              "    </tr>\n",
              "    <tr>\n",
              "      <th>2015-08-17 18:53:00</th>\n",
              "      <td>140.0</td>\n",
              "      <td>4.941642</td>\n",
              "      <td>0.000000</td>\n",
              "      <td>4.948811</td>\n",
              "      <td>141.007194</td>\n",
              "      <td>4.929608</td>\n",
              "      <td>138.325252</td>\n",
              "    </tr>\n",
              "    <tr>\n",
              "      <th>2015-08-17 18:54:00</th>\n",
              "      <td>138.0</td>\n",
              "      <td>4.927254</td>\n",
              "      <td>-0.014389</td>\n",
              "      <td>4.920033</td>\n",
              "      <td>137.007194</td>\n",
              "      <td>4.915727</td>\n",
              "      <td>136.418408</td>\n",
              "    </tr>\n",
              "  </tbody>\n",
              "</table>\n",
              "</div>\n",
              "      <button class=\"colab-df-convert\" onclick=\"convertToInteractive('df-e94ed9e8-e187-49e2-941e-589b3b28c9d8')\"\n",
              "              title=\"Convert this dataframe to an interactive table.\"\n",
              "              style=\"display:none;\">\n",
              "        \n",
              "  <svg xmlns=\"http://www.w3.org/2000/svg\" height=\"24px\"viewBox=\"0 0 24 24\"\n",
              "       width=\"24px\">\n",
              "    <path d=\"M0 0h24v24H0V0z\" fill=\"none\"/>\n",
              "    <path d=\"M18.56 5.44l.94 2.06.94-2.06 2.06-.94-2.06-.94-.94-2.06-.94 2.06-2.06.94zm-11 1L8.5 8.5l.94-2.06 2.06-.94-2.06-.94L8.5 2.5l-.94 2.06-2.06.94zm10 10l.94 2.06.94-2.06 2.06-.94-2.06-.94-.94-2.06-.94 2.06-2.06.94z\"/><path d=\"M17.41 7.96l-1.37-1.37c-.4-.4-.92-.59-1.43-.59-.52 0-1.04.2-1.43.59L10.3 9.45l-7.72 7.72c-.78.78-.78 2.05 0 2.83L4 21.41c.39.39.9.59 1.41.59.51 0 1.02-.2 1.41-.59l7.78-7.78 2.81-2.81c.8-.78.8-2.07 0-2.86zM5.41 20L4 18.59l7.72-7.72 1.47 1.35L5.41 20z\"/>\n",
              "  </svg>\n",
              "      </button>\n",
              "      \n",
              "  <style>\n",
              "    .colab-df-container {\n",
              "      display:flex;\n",
              "      flex-wrap:wrap;\n",
              "      gap: 12px;\n",
              "    }\n",
              "\n",
              "    .colab-df-convert {\n",
              "      background-color: #E8F0FE;\n",
              "      border: none;\n",
              "      border-radius: 50%;\n",
              "      cursor: pointer;\n",
              "      display: none;\n",
              "      fill: #1967D2;\n",
              "      height: 32px;\n",
              "      padding: 0 0 0 0;\n",
              "      width: 32px;\n",
              "    }\n",
              "\n",
              "    .colab-df-convert:hover {\n",
              "      background-color: #E2EBFA;\n",
              "      box-shadow: 0px 1px 2px rgba(60, 64, 67, 0.3), 0px 1px 3px 1px rgba(60, 64, 67, 0.15);\n",
              "      fill: #174EA6;\n",
              "    }\n",
              "\n",
              "    [theme=dark] .colab-df-convert {\n",
              "      background-color: #3B4455;\n",
              "      fill: #D2E3FC;\n",
              "    }\n",
              "\n",
              "    [theme=dark] .colab-df-convert:hover {\n",
              "      background-color: #434B5C;\n",
              "      box-shadow: 0px 1px 3px 1px rgba(0, 0, 0, 0.15);\n",
              "      filter: drop-shadow(0px 1px 2px rgba(0, 0, 0, 0.3));\n",
              "      fill: #FFFFFF;\n",
              "    }\n",
              "  </style>\n",
              "\n",
              "      <script>\n",
              "        const buttonEl =\n",
              "          document.querySelector('#df-e94ed9e8-e187-49e2-941e-589b3b28c9d8 button.colab-df-convert');\n",
              "        buttonEl.style.display =\n",
              "          google.colab.kernel.accessAllowed ? 'block' : 'none';\n",
              "\n",
              "        async function convertToInteractive(key) {\n",
              "          const element = document.querySelector('#df-e94ed9e8-e187-49e2-941e-589b3b28c9d8');\n",
              "          const dataTable =\n",
              "            await google.colab.kernel.invokeFunction('convertToInteractive',\n",
              "                                                     [key], {});\n",
              "          if (!dataTable) return;\n",
              "\n",
              "          const docLinkHtml = 'Like what you see? Visit the ' +\n",
              "            '<a target=\"_blank\" href=https://colab.research.google.com/notebooks/data_table.ipynb>data table notebook</a>'\n",
              "            + ' to learn more about interactive tables.';\n",
              "          element.innerHTML = '';\n",
              "          dataTable['output_type'] = 'display_data';\n",
              "          await google.colab.output.renderOutput(dataTable, element);\n",
              "          const docLink = document.createElement('div');\n",
              "          docLink.innerHTML = docLinkHtml;\n",
              "          element.appendChild(docLink);\n",
              "        }\n",
              "      </script>\n",
              "    </div>\n",
              "  </div>\n",
              "  "
            ]
          },
          "metadata": {},
          "execution_count": 37
        }
      ]
    },
    {
      "cell_type": "code",
      "source": [
        "plt.plot(df['wdout_log_Prediction'], label='Prediction',color='green')"
      ],
      "metadata": {
        "colab": {
          "base_uri": "https://localhost:8080/",
          "height": 283
        },
        "id": "B-25FUnVyUDc",
        "outputId": "a7026228-92b5-4e35-d109-215adf8d3350"
      },
      "execution_count": null,
      "outputs": [
        {
          "output_type": "execute_result",
          "data": {
            "text/plain": [
              "[<matplotlib.lines.Line2D at 0x7f8dd30ac1f0>]"
            ]
          },
          "metadata": {},
          "execution_count": 38
        },
        {
          "output_type": "display_data",
          "data": {
            "text/plain": [
              "<Figure size 432x288 with 1 Axes>"
            ],
            "image/png": "[encoded data removed]"
          },
          "metadata": {
            "needs_background": "light"
          }
        }
      ]
    },
    {
      "cell_type": "code",
      "source": [
        "pred1 = df['wdout_log_Prediction'][206:]"
      ],
      "metadata": {
        "id": "idrRPDvS227S"
      },
      "execution_count": null,
      "outputs": []
    },
    {
      "cell_type": "markdown",
      "source": [
        "#Building the model for the Forecasting"
      ],
      "metadata": {
        "id": "1GPzNdnHxkFC"
      }
    },
    {
      "cell_type": "code",
      "source": [
        "model = sm.tsa.arima.ARIMA(df['Lifetouch Heart Rate'], order=(4,0,0)).fit()\n",
        "predictions = model.forecast(20)\n",
        "print(predictions)"
      ],
      "metadata": {
        "colab": {
          "base_uri": "https://localhost:8080/"
        },
        "id": "HovFj8D3xjWc",
        "outputId": "2d430856-5ae4-4322-e22c-cef3cadf62ae"
      },
      "execution_count": null,
      "outputs": [
        {
          "output_type": "stream",
          "name": "stderr",
          "text": [
            "/usr/local/lib/python3.8/dist-packages/statsmodels/tsa/base/tsa_model.py:471: ValueWarning: No frequency information was provided, so inferred frequency T will be used.\n",
            "  self._init_dates(dates, freq)\n",
            "/usr/local/lib/python3.8/dist-packages/statsmodels/tsa/base/tsa_model.py:471: ValueWarning: No frequency information was provided, so inferred frequency T will be used.\n",
            "  self._init_dates(dates, freq)\n",
            "/usr/local/lib/python3.8/dist-packages/statsmodels/tsa/base/tsa_model.py:471: ValueWarning: No frequency information was provided, so inferred frequency T will be used.\n",
            "  self._init_dates(dates, freq)\n"
          ]
        },
        {
          "output_type": "stream",
          "name": "stdout",
          "text": [
            "2015-08-17 18:55:00    138.175572\n",
            "2015-08-17 18:56:00    139.044031\n",
            "2015-08-17 18:57:00    139.221778\n",
            "2015-08-17 18:58:00    139.403523\n",
            "2015-08-17 18:59:00    139.751171\n",
            "2015-08-17 19:00:00    140.024939\n",
            "2015-08-17 19:01:00    140.250405\n",
            "2015-08-17 19:02:00    140.487426\n",
            "2015-08-17 19:03:00    140.712950\n",
            "2015-08-17 19:04:00    140.918382\n",
            "2015-08-17 19:05:00    141.113697\n",
            "2015-08-17 19:06:00    141.299463\n",
            "2015-08-17 19:07:00    141.473795\n",
            "2015-08-17 19:08:00    141.638045\n",
            "2015-08-17 19:09:00    141.793251\n",
            "2015-08-17 19:10:00    141.939601\n",
            "2015-08-17 19:11:00    142.077563\n",
            "2015-08-17 19:12:00    142.207715\n",
            "2015-08-17 19:13:00    142.330480\n",
            "2015-08-17 19:14:00    142.446257\n",
            "Freq: T, Name: predicted_mean, dtype: float64\n"
          ]
        }
      ]
    },
    {
      "cell_type": "code",
      "source": [
        "predictions.dtypes"
      ],
      "metadata": {
        "id": "LNSXRCnLyEDQ",
        "colab": {
          "base_uri": "https://localhost:8080/"
        },
        "outputId": "8c4577a3-8fb9-4f75-e5ca-c80c6520d4eb"
      },
      "execution_count": null,
      "outputs": [
        {
          "output_type": "execute_result",
          "data": {
            "text/plain": [
              "dtype('float64')"
            ]
          },
          "metadata": {},
          "execution_count": 41
        }
      ]
    },
    {
      "cell_type": "code",
      "source": [
        "df['wdout_log_heartrate']"
      ],
      "metadata": {
        "colab": {
          "base_uri": "https://localhost:8080/"
        },
        "id": "qtDQ7jCH2U6A",
        "outputId": "c193f8bc-b43d-49c9-c283-a70fa8d471db"
      },
      "execution_count": null,
      "outputs": [
        {
          "output_type": "execute_result",
          "data": {
            "text/plain": [
              "Timestamp\n",
              "2015-08-17 15:09:00           NaN\n",
              "2015-08-17 15:10:00    149.179856\n",
              "2015-08-17 15:11:00    141.007194\n",
              "2015-08-17 15:12:00    137.007194\n",
              "2015-08-17 15:13:00    127.258993\n",
              "                          ...    \n",
              "2015-08-17 18:50:00    181.877698\n",
              "2015-08-17 18:51:00    164.035971\n",
              "2015-08-17 18:52:00    141.007194\n",
              "2015-08-17 18:53:00    141.007194\n",
              "2015-08-17 18:54:00    137.007194\n",
              "Name: wdout_log_heartrate, Length: 226, dtype: float64"
            ]
          },
          "metadata": {},
          "execution_count": 42
        }
      ]
    },
    {
      "cell_type": "code",
      "source": [
        "plt.plot(df['Lifetouch Heart Rate'].iloc[206:], label='actual',color='green')\n",
        "plt.plot(pred1, label='Prediction',color='red')"
      ],
      "metadata": {
        "colab": {
          "base_uri": "https://localhost:8080/",
          "height": 282
        },
        "id": "2eVxY6Nz3TDI",
        "outputId": "a31c9fdd-00f4-4c3a-a521-eeba5f1ee09a"
      },
      "execution_count": null,
      "outputs": [
        {
          "output_type": "execute_result",
          "data": {
            "text/plain": [
              "[<matplotlib.lines.Line2D at 0x7f8dd72c1f40>]"
            ]
          },
          "metadata": {},
          "execution_count": 43
        },
        {
          "output_type": "display_data",
          "data": {
            "text/plain": [
              "<Figure size 432x288 with 1 Axes>"
            ],
            "image/png": "[encoded data removed]"
          },
          "metadata": {
            "needs_background": "light"
          }
        }
      ]
    },
    {
      "cell_type": "code",
      "source": [
        "# Plot\n",
        "plt.figure(figsize=(12,5), dpi=100)\n",
        "plt.plot(df['Lifetouch Heart Rate'],label='HeartRate',color='green')\n",
        "plt.plot(pred1, label='Prediction',color='red')\n",
        "plt.plot(predictions, label='Forecasting',color='blue')\n",
        "\n",
        "plt.title('Forecast vs Actuals')\n",
        "plt.legend(loc='upper left', fontsize=8)\n",
        "plt.show()"
      ],
      "metadata": {
        "colab": {
          "base_uri": "https://localhost:8080/",
          "height": 380
        },
        "id": "nyy8FGARF39Q",
        "outputId": "684fbad0-0fa4-4257-87c9-833014cd96a4"
      },
      "execution_count": null,
      "outputs": [
        {
          "output_type": "display_data",
          "data": {
            "text/plain": [
              "<Figure size 1200x500 with 1 Axes>"
            ],
            "image/png": "[encoded data removed]"
          },
          "metadata": {
            "needs_background": "light"
          }
        }
      ]
    },
    {
      "cell_type": "code",
      "source": [
        "from math import sqrt\n",
        "rmse = sqrt(mean_squared_error(pred1,df['Lifetouch Heart Rate'].iloc[206:]))"
      ],
      "metadata": {
        "id": "t-FsbslE8cYi"
      },
      "execution_count": null,
      "outputs": []
    },
    {
      "cell_type": "code",
      "source": [
        "rmse"
      ],
      "metadata": {
        "colab": {
          "base_uri": "https://localhost:8080/"
        },
        "id": "ynGAoKfpMEwq",
        "outputId": "b3d40aec-f39c-47ef-946f-b9619037c171"
      },
      "execution_count": null,
      "outputs": [
        {
          "output_type": "execute_result",
          "data": {
            "text/plain": [
              "2.5779893530212727"
            ]
          },
          "metadata": {},
          "execution_count": 46
        }
      ]
    },
    {
      "cell_type": "code",
      "source": [
        "import json\n",
        "\n",
        "prediction = predictions\n",
        "\n",
        "data = []\n",
        "for pred in prediction:\n",
        "    data.append({'prediction': pred})\n",
        "\n",
        "print(data[0:5])\n",
        "\n",
        "submission_file_path = \"submission.json\"\n",
        "with open(submission_file_path, 'w') as fp:\n",
        "  fp.write('\\n'.join(json.dumps(i) for i in data))\n",
        "    "
      ],
      "metadata": {
        "colab": {
          "base_uri": "https://localhost:8080/"
        },
        "id": "YrmnHsVjPoOB",
        "outputId": "01447fa1-e5c8-457e-b3f7-46b802d1fa72"
      },
      "execution_count": null,
      "outputs": [
        {
          "output_type": "stream",
          "name": "stdout",
          "text": [
            "[{'prediction': 138.17557206414003}, {'prediction': 139.044031487723}, {'prediction': 139.22177762200488}, {'prediction': 139.40352320107422}, {'prediction': 139.75117145340676}]\n"
          ]
        }
      ]
    },
    {
      "cell_type": "code",
      "source": [],
      "metadata": {
        "id": "Og9SX9MjiLWM"
      },
      "execution_count": null,
      "outputs": []
    },
    {
      "cell_type": "markdown",
      "source": [
        "#END"
      ],
      "metadata": {
        "id": "5VxNxhBkMMms"
      }
    }
  ]
}